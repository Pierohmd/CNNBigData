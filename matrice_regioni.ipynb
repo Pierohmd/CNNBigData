{
 "cells": [
  {
   "cell_type": "markdown",
   "metadata": {},
   "source": [
    "## DEF OF CLASSES \"ROUTE\" AND \"AIRPORT\""
   ]
  },
  {
   "cell_type": "code",
   "execution_count": 4,
   "metadata": {},
   "outputs": [],
   "source": [
    "class Airport:\n",
    "    name = \"\"\n",
    "    city = \"\"\n",
    "    country = \"\"\n",
    "    iata = \"\"\n",
    "    icao = \"\"\n",
    "    lat = 0.\n",
    "    long = 0.\n",
    "    def info(self):\n",
    "        return f'{self.iata}, {self.icao}\\n{self.city}, {self.country}\\nlat={self.lat}, long={self.long}'\n",
    "\n",
    "class Route:\n",
    "    source_iata = \"\"\n",
    "    source_icao = \"\"\n",
    "    dest_iata = \"\"\n",
    "    dest_icao = \"\"\n",
    "    dest_city = \"\"\n",
    "    source_city = \"\"\n",
    "    dest_country = \"\"\n",
    "    source_country = \"\"\n",
    "    flux = 0 # passenger per year (2017)\n",
    "    def info(self):\n",
    "        return f'source: {self.source_city}, {self.source_country}\\ndest: {self.dest_city}, {self.dest_country}\\nflux: {self.flux}'\n",
    "    \n",
    "    # Nota : il flusso verrà preso da un file che contiene solo rotte\n",
    "    # per numero di passeggeri maggiore di 50000 all'anno\n",
    "    \n",
    "    #aggiungo questa proprietà così che quando confronto due oggetti\n",
    "    #di questa classe, controlla il contenuto degli oggetti, e non\n",
    "    #l'hash. Serve per eliminare i duplicati.\n",
    "    def __eq__(self, other) : \n",
    "        return self.__dict__ == other.__dict__"
   ]
  },
  {
   "cell_type": "markdown",
   "metadata": {},
   "source": [
    "## LOAD DATABASES\n",
    "Ho salvato i databases in formato \".npy\" così non c'è bisogno di rieffettuare ogni volta tutta l'estrazione dai csv."
   ]
  },
  {
   "cell_type": "code",
   "execution_count": 15,
   "metadata": {},
   "outputs": [],
   "source": [
    "import pickle\n",
    "\n",
    "try:\n",
    "    with open(\"data/db_routes_new.dat\", \"rb\") as f:\n",
    "        routes = pickle.load(f)\n",
    "except Exception as e: print(e)\n",
    "try:\n",
    "    with open(\"data/db_it_airports.dat\", \"rb\") as f:\n",
    "        it_airports = pickle.load(f)\n",
    "except Exception as e: print(e)\n",
    "    \n",
    "# creo lista aeroporti inutili (senza collegamenti)\n",
    "useless_airports = []\n",
    "for airport in it_airports:\n",
    "    if len(airport.neigs_in) == 0:\n",
    "        useless_airports.append([airport.iata, airport.city])"
   ]
  },
  {
   "cell_type": "markdown",
   "metadata": {},
   "source": [
    "### apro file e lo importo"
   ]
  },
  {
   "cell_type": "code",
   "execution_count": 26,
   "metadata": {},
   "outputs": [],
   "source": [
    "import csv\n",
    "\n",
    "regioni = []\n",
    "with open('./provincia-regione-sigla_.csv') as file :\n",
    "        reader = csv.reader(file, delimiter=',')\n",
    "        for line in reader:\n",
    "            airport_new.append(line)"
   ]
  },
  {
   "cell_type": "markdown",
   "metadata": {},
   "source": [
    "### cerco di renderlo compatibile col nostro database"
   ]
  },
  {
   "cell_type": "code",
   "execution_count": 19,
   "metadata": {},
   "outputs": [],
   "source": [
    "tan = []\n",
    "for airport in regioni:\n",
    "    translated_airport = []\n",
    "    for i in range(len(airport_new[0])):\n",
    "        if 'Napoli' in airport[i]:\n",
    "            translated_airport.append(airport[i].replace('Napoli','Naples'))\n",
    "        if 'Torino' in airport[i]:\n",
    "            translated_airport.append(airport[i].replace('Torino','Turin'))\n",
    "        elif 'Roma' in airport[i]:\n",
    "            translated_airport.append(airport[i].replace('Roma','Rome'))\n",
    "        elif 'Milano' in airport[i]:\n",
    "            translated_airport.append(airport[i].replace('Milano','Milan'))\n",
    "        elif 'Venezia' in airport[i]:\n",
    "            translated_airport.append(airport[i].replace('Venezia','Venice'))\n",
    "        elif 'Catanzaro' in airport[i]:\n",
    "            translated_airport.append(airport[i].replace('Catanzaro','Lamezia'))\n",
    "        elif 'Genova' in airport[i]:\n",
    "            translated_airport.append(airport[i].replace('Genova','Genoa'))\n",
    "        elif 'Firenze' in airport[i]:\n",
    "            translated_airport.append(airport[i].replace('Firenze','Florence'))\n",
    "        elif 'Gorizia' in airport[i]:\n",
    "            translated_airport.append(airport[i].replace('Gorizia','Ronchi De Legionari'))\n",
    "        elif 'Verona' in airport[i]:\n",
    "            translated_airport.append(airport[i].replace('Verona','Villafranca'))\n",
    "        else:\n",
    "            translated_airport.append(airport[i])\n",
    "    \n",
    "    tan.append(translated_airport)\n",
    "    \n",
    "# aggiungo a mano alcune città\n",
    "tan.append(['Lampedusa','Sicilia'])\n",
    "tan.append(['Comiso','Sicilia'])\n",
    "tan.append(['Pantelleria','Sicilia'])    \n",
    "tan.append(['Alghero','Sardegna'])\n",
    "tan.append(['Olbia','Sardegna'])\n",
    "tan.append(['Milano','Lombardia'])\n",
    "tan.append(['Torino','Piemonte'])\n",
    "tan.append(['Verona','Veneto'])\n",
    "tan[59] = ['Naples','Campania']\n",
    "tan.append(['Napoli','Campania'])"
   ]
  },
  {
   "cell_type": "markdown",
   "metadata": {},
   "source": [
    "# Inserisco info sulla regione nel nostro database degli aeroporti italiani (it_airports)\n",
    "### Ciò che printa sono gli aeroporti di cui non ha trovato la regione. Basta che essi siano quelli nella lista degli \"inutili\""
   ]
  },
  {
   "cell_type": "code",
   "execution_count": 21,
   "metadata": {},
   "outputs": [
    {
     "name": "stdout",
     "output_type": "stream",
     "text": [
      "Grottaglie\n",
      "Gioia Del Colle\n",
      "Sigonella\n",
      "Decimomannu\n",
      "Tortoli\n",
      "Albenga\n",
      "Cameri\n",
      "Aviano\n",
      "Cervia\n",
      "Rivolto\n",
      "Forli\n",
      "Ghedi\n",
      "Pratica Di Mare\n",
      "Guidonia\n",
      "Marina Di Campo\n",
      "Grazzanise\n",
      "Trento (TN)\n",
      "Biella (BI)\n",
      "Casale Monferrato\n",
      "Novi Ligure\n",
      "Sarzana (SP)\n",
      "62\n"
     ]
    }
   ],
   "source": [
    "j = 0\n",
    "for airport in it_airports:\n",
    "    i=0\n",
    "    for line in tan:\n",
    "        if airport.city == line[0]:\n",
    "            airport.regione= line[1]\n",
    "            i+=1\n",
    "            j+=1\n",
    "            break\n",
    "        elif airport.city=='Amendola':\n",
    "            airport.regione='Puglia'\n",
    "            i+=1\n",
    "            j+=1\n",
    "            break\n",
    "    if i==0:\n",
    "        airport.regione = ''\n",
    "        print (airport.city)\n",
    "        \n",
    "print(j)"
   ]
  },
  {
   "cell_type": "markdown",
   "metadata": {},
   "source": [
    "### Risultato"
   ]
  },
  {
   "cell_type": "code",
   "execution_count": 23,
   "metadata": {},
   "outputs": [
    {
     "name": "stdout",
     "output_type": "stream",
     "text": [
      "BRI Puglia\n",
      "PSR Abruzzo\n",
      "BDS Puglia\n",
      "SUF Calabria\n",
      "CTA Sicilia\n",
      "LMP Sicilia\n",
      "PNL Sicilia\n",
      "PMO Sicilia\n",
      "REG Calabria\n",
      "TPS Sicilia\n",
      "AHO Sardegna\n",
      "CAG Sardegna\n",
      "OLB Sardegna\n",
      "MXP Lombardia\n",
      "BGY Lombardia\n",
      "TRN Piemonte\n",
      "GOA Liguria\n",
      "LIN Lombardia\n",
      "PMF Emilia-Romegna\n",
      "CUF Piemonte\n",
      "BZO Trentino-Alto Adige\n",
      "BLQ Emilia-Romegna\n",
      "TSF Veneto\n",
      "TRS Friuli-Venice Giulia\n",
      "VRN Veneto\n",
      "VCE Veneto\n",
      "CIA Lazio\n",
      "FCO Lazio\n",
      "NAP Campania\n",
      "PSA Toscana\n",
      "FLR Toscana\n",
      "PEG Umbria\n",
      "AOI Marche\n",
      "CIY Sicilia\n"
     ]
    },
    {
     "data": {
      "text/plain": [
       "34"
      ]
     },
     "execution_count": 23,
     "metadata": {},
     "output_type": "execute_result"
    }
   ],
   "source": [
    "i = 0\n",
    "for airport in it_airports:\n",
    "    if airport.iata not in [line[0] for line in useless_airports]:\n",
    "        print(airport.iata, airport.regione)\n",
    "        i += 1\n",
    "i"
   ]
  },
  {
   "cell_type": "code",
   "execution_count": 24,
   "metadata": {},
   "outputs": [],
   "source": [
    "regioni = ['Puglia'\n",
    ",'Abruzzo'\n",
    ",'Calabria'\n",
    ",'Sardegna'\n",
    ",'Lombardia'\n",
    ",'Piemonte'\n",
    ",'Liguria'\n",
    ",'Emilia-Romegna'\n",
    ",'Trentino-Alto Adige'\n",
    ",'Veneto'\n",
    ",'Friuli-Venice Giulia'\n",
    ",'Lazio'\n",
    ",'Campania'\n",
    ",'Toscana'\n",
    ",'Umbria'\n",
    ",'Marche'\n",
    ",'Sicilia']"
   ]
  },
  {
   "cell_type": "code",
   "execution_count": 25,
   "metadata": {},
   "outputs": [
    {
     "data": {
      "text/plain": [
       "17"
      ]
     },
     "execution_count": 25,
     "metadata": {},
     "output_type": "execute_result"
    }
   ],
   "source": [
    "len(regioni)"
   ]
  },
  {
   "cell_type": "code",
   "execution_count": null,
   "metadata": {},
   "outputs": [],
   "source": []
  }
 ],
 "metadata": {
  "kernelspec": {
   "display_name": "Python 3",
   "language": "python",
   "name": "python3"
  },
  "language_info": {
   "codemirror_mode": {
    "name": "ipython",
    "version": 3
   },
   "file_extension": ".py",
   "mimetype": "text/x-python",
   "name": "python",
   "nbconvert_exporter": "python",
   "pygments_lexer": "ipython3",
   "version": "3.7.3"
  }
 },
 "nbformat": 4,
 "nbformat_minor": 4
}
